{
  "nbformat": 4,
  "nbformat_minor": 0,
  "metadata": {
    "colab": {
      "provenance": [],
      "authorship_tag": "ABX9TyOJGDXQrLwZJi9cNVcnYG9E",
      "include_colab_link": true
    },
    "kernelspec": {
      "name": "python3",
      "display_name": "Python 3"
    },
    "language_info": {
      "name": "python"
    }
  },
  "cells": [
    {
      "cell_type": "markdown",
      "metadata": {
        "id": "view-in-github",
        "colab_type": "text"
      },
      "source": [
        "<a href=\"https://colab.research.google.com/github/ppujari/PyTorch/blob/main/PyTorch_tips.ipynb\" target=\"_parent\"><img src=\"https://colab.research.google.com/assets/colab-badge.svg\" alt=\"Open In Colab\"/></a>"
      ]
    },
    {
      "cell_type": "markdown",
      "source": [
        "#PyTorch Tip-11"
      ],
      "metadata": {
        "id": "WH2ISir4R1iW"
      }
    },
    {
      "cell_type": "markdown",
      "source": [
        "**Leverage *torch.nn.ModuleList* for Dynamic Model Architectures**  \n",
        "**Dynamically add or remove layers:**\n",
        "*    This is useful for models like recurrent neural networks where the\n",
        "sequence length might vary.\n",
        "\n",
        "**Iterate and modify layers:**  \n",
        "*    Easily loop through and modify layers, e.g., to freeze certain layers or apply different learning rates.\n"
      ],
      "metadata": {
        "id": "oEsSHghJR_Mh"
      }
    },
    {
      "cell_type": "markdown",
      "source": [
        "**Use case:**  \n",
        "Let us consider a text classification task where the input is a variable list sequence of words and the output is a probability distribution over a set of classes. We can use RNN but the sequence length is variable. Here we can use ModuleList.\n",
        "\n",
        "**How to use ModuleList to make the RNN dynamic:**\n",
        "\n",
        "Variable Number of Layers:\n",
        "Create a ModuleList to store RNN layers.\n",
        "Dynamically add or remove layers based on a hyperparameter or input sequence length.\n",
        "\n",
        "Another Simple Example: Dynamic Linear Regression\n",
        "\n",
        "Let's create a simple linear regression model where we can dynamically add or remove layers. This can be useful for experimenting with different model architectures or for early stopping.\n"
      ],
      "metadata": {
        "id": "8DSQ2IWmeBAU"
      }
    },
    {
      "cell_type": "code",
      "source": [
        "#This is abstract code snippet\n",
        "import torch\n",
        "import torch.nn as nn\n",
        "\n",
        "class DynamicModel(nn.Module):\n",
        "    def __init__(self): #constructor\n",
        "    \"\"\"\n",
        "        DynamicModel: This is the name of the current class.\n",
        "        self: This refers to the current instance of the DynamicModel class.\n",
        "        By passing these arguments to super(), we're essentially telling Python\n",
        "        to look for the parent class of DynamicModel. This ensures that the\n",
        "        DynamicModel class is properly initialized. Inheritance property.\n",
        "    \"\"\"\n",
        "        super(DynamicModel, self).__init__()\n",
        "        self.layers = nn.ModuleList()\n",
        "\n",
        "    def add_layer(self, layer):\n",
        "        self.layers.append(layer)\n",
        "\n",
        "    def forward(self, x):\n",
        "        for layer in self.layers:\n",
        "            x = layer(x)\n",
        "        return x"
      ],
      "metadata": {
        "id": "a3vgRkD8TmXW"
      },
      "execution_count": null,
      "outputs": []
    },
    {
      "cell_type": "markdown",
      "source": [
        "**Another Simple Example: Dynamic Linear Regression**\n",
        "\n",
        "Let's create a simple linear regression model where we can dynamically add or remove layers. This can be useful for experimenting with different model architectures or for early stopping."
      ],
      "metadata": {
        "id": "RWEmGc0ziPNB"
      }
    },
    {
      "cell_type": "code",
      "source": [
        "#This is a basic example, but it demonstrates the flexibility of ModuleList\n",
        "import torch\n",
        "import torch.nn as nn\n",
        "\n",
        "# Sample data\n",
        "X = torch.randn(100, 10)  # 100 samples, each with 10 features\n",
        "y = 2 * X[:, 0] + 3 * X[:, 1] + torch.randn(100)  # Linear relationship with noise\n",
        "\n",
        "class DynamicLinearRegression(nn.Module):\n",
        "    def __init__(self, input_size, output_size):\n",
        "        super(DynamicLinearRegression, self).__init__()\n",
        "        self.layers = nn.ModuleList()\n",
        "        self.layers.append(nn.Linear(input_size, 64))\n",
        "        self.layers.append(nn.ReLU())\n",
        "        self.layers.append(nn.Linear(64, output_size))\n",
        "\n",
        "    def forward(self, x):\n",
        "        for layer in self.layers:\n",
        "            x = layer(x)\n",
        "        return x\n",
        "\n",
        "# Example usage:\n",
        "model = DynamicLinearRegression(input_size=10, output_size=1)\n",
        "\n",
        "# Add another layer:\n",
        "model.layers.append(nn.Linear(64, 32))\n",
        "model.layers.append(nn.ReLU())\n",
        "\n",
        "# Remove the last layer:\n",
        "del model.layers[-2:]\n"
      ],
      "metadata": {
        "id": "y5S3BKVWiNc1"
      },
      "execution_count": 3,
      "outputs": []
    },
    {
      "cell_type": "code",
      "source": [
        "criterion = nn.MSELoss()\n",
        "optimizer = torch.optim.SGD(model.parameters(), lr=0.01)"
      ],
      "metadata": {
        "id": "fi-mDC2ymHP0"
      },
      "execution_count": 4,
      "outputs": []
    },
    {
      "cell_type": "code",
      "source": [
        "# Training loop\n",
        "num_epochs = 100\n",
        "for epoch in range(num_epochs):\n",
        "    # Forward pass\n",
        "    output = model(X)\n",
        "    loss = criterion(output, y.unsqueeze(1))  # Reshape y to match output shape\n",
        "\n",
        "    # Backward and optimize\n",
        "    optimizer.zero_grad()\n",
        "    loss.backward()\n",
        "    optimizer.step()\n",
        "\n",
        "    if (epoch+1) % 10 == 0:\n",
        "        print(f'Epoch [{epoch+1}/{num_epochs}], Loss: {loss.item():.4f}')"
      ],
      "metadata": {
        "id": "E4ltiv9FmIfD",
        "outputId": "2cd7e45e-36fb-4838-c257-a70542c607c9",
        "colab": {
          "base_uri": "https://localhost:8080/"
        }
      },
      "execution_count": 5,
      "outputs": [
        {
          "output_type": "stream",
          "name": "stdout",
          "text": [
            "Epoch [10/100], Loss: 9.5748\n",
            "Epoch [20/100], Loss: 7.4827\n",
            "Epoch [30/100], Loss: 5.1878\n",
            "Epoch [40/100], Loss: 3.2073\n",
            "Epoch [50/100], Loss: 1.9626\n",
            "Epoch [60/100], Loss: 1.3691\n",
            "Epoch [70/100], Loss: 1.1244\n",
            "Epoch [80/100], Loss: 1.0142\n",
            "Epoch [90/100], Loss: 0.9540\n",
            "Epoch [100/100], Loss: 0.9120\n"
          ]
        }
      ]
    },
    {
      "cell_type": "markdown",
      "source": [
        "**Conclusion:**\n",
        "By using a ModuleList, we can easily modify the architecture of the model by adding or removing layers without changing the core forward method. This flexibility is crucial for experimentation and optimization."
      ],
      "metadata": {
        "id": "-sJNLuXbp1Sc"
      }
    },
    {
      "cell_type": "markdown",
      "source": [
        "#PyTorch Tip-10\n",
        "Using torch.cuda.amp module\n",
        "\n",
        "**Why Use Mixed Precision?**  \n",
        "Mixed precision training speeds up computations by using lower precision (e.g., float16) while maintaining the accuracy of float32 for critical operations. It reduces memory usage and can accelerate training significantly, especially on GPUs with Tensor Cores like NVIDIA’s.  \n",
        "\n",
        "**How to Implement Mixed Precision Training**\n",
        "Use the torch.cuda.amp (Automatic Mixed Precision) module for seamless integration.\n",
        "import torch\n",
        "from torch.cuda.amp import GradScaler, autocast\n",
        "\n",
        "model = YourModel().cuda()\n",
        "optimizer = torch.optim.Adam(model.parameters(), lr=1e-3)\n",
        "criterion = torch.nn.CrossEntropyLoss()\n",
        "\n",
        "scaler = GradScaler()  # Initialize GradScaler for mixed precision\n",
        "\n",
        "for inputs, targets in dataloader:  # Training loop\n",
        "    inputs, targets = inputs.cuda(), targets.cuda()\n",
        "\n",
        "    optimizer.zero_grad()\n",
        "    \n",
        "    # Enable mixed precision for the forward pass\n",
        "    with autocast():\n",
        "        outputs = model(inputs)\n",
        "        loss = criterion(outputs, targets)\n",
        "    \n",
        "    # Scale the loss for backpropagation\n",
        "    scaler.scale(loss).backward()\n",
        "    scaler.step(optimizer)\n",
        "    scaler.update()\n",
        "\n",
        "print(\"Training completed with mixed precision!\")\n",
        "\n",
        "**Benefits:**\n",
        "**Speed:**\n",
        "Mixed precision uses hardware acceleration, reducing training time.\n",
        "Memory Efficiency: Enables larger batch sizes by cutting memory usage.\n",
        "\n",
        "**When to Use:**\n",
        "Ideal for deep learning models that require heavy GPU resources.\n",
        "Works well for architectures like CNNs and Transformers.\n",
        "\n",
        "#PyTorch Tip-9\n",
        "**Gradient Clipping to Prevent Exploding Gradients:**  \n",
        "When training deep neural networks, especially RNNs or LSTMs, gradients can sometimes grow too large, leading to exploding gradients. This causes instability and poor model convergence. To mitigate this, you can use gradient clipping, which limits the size of gradients during backpropagation.  \n",
        "\n",
        "**How to Implement Gradient Clipping:**  \n",
        "PyTorch makes it easy to clip gradients using torch.nn.utils.clip_grad_norm_. This function clips gradients to a maximum specified norm, preventing them from exceeding a certain value.\n",
        "\n",
        "\n",
        "import torch.nn.utils as utils\n",
        "\n",
        "max_norm = 1.0  # Maximum norm for the gradients\n",
        "for inputs, labels in dataloader:\n",
        "    outputs = model(inputs)\n",
        "    loss = loss_function(outputs, labels)\n",
        "    \n",
        "    loss.backward()  # Backpropagate\n",
        "    \n",
        "    # Clip gradients to avoid exploding gradients\n",
        "    utils.clip_grad_norm_(model.parameters(), max_norm)\n",
        "    \n",
        "    optimizer.step()  # Update weights\n",
        "    optimizer.zero_grad()  # Clear gradients\n",
        "\n",
        "**I used many cases, it helps:**\n",
        "**Stabilizes Training:**  \n",
        "Especially useful when training deep or recurrent networks.\n",
        "**Prevents Gradient Explosion:**  \n",
        "Keeps gradient values in a reasonable range to ensure smooth updates.\n",
        "\n",
        "**Improves Convergence:**\n",
        "Helps models converge more reliably by avoiding runaway updates.\n",
        "\n",
        "Note that this technique is especially useful when working with deep architectures, RNNs, or complex optimization landscapes.\n",
        "\n",
        "#PyTorch Tip-8\n",
        "\n",
        "Diffrence between torch.manual_seed() and\n",
        "torch.cuda.manual_seed() function  \n",
        "**torch.manual_seed()**  \n",
        "This function sets the random seed for generating random numbers for the CPU and all GPU devices in PyTorch. This includes operations like random initialization of tensors, weights, and data augmentation that rely on random number generation.\n",
        "\n",
        "**Effect:**\n",
        "\n",
        "Ensures that any operation involving randomness on the CPU will produce the same result every time the code is run. When you want to ensure consistent random behavior across both CPU and GPU operations in your PyTorch model.  \n",
        "**torch.cuda.manual_seed(42)**  \n",
        " This function sets the random seed specifically for CUDA operations on the current GPU device only. **Does not affect CPU random number generation**  \n",
        " **Use Case:** When you need to ensure consistent random behavior specifically for GPU computations but don't want to affect CPU operations.  \n",
        " ## Key Differences:  \n",
        " | Features |torch.manual_seed(42)|torch.cuda.manual_seed(42)|\n",
        " | :- | -: | :-: |\n",
        " |Scope|Affects both CPU and GPU operations|Affects only the current GPU device|\n",
        " |CPU Randomness|Sets the seed for CPU random number generation|Does not affect CPU random number generation|\n",
        " |GPU Randomness|Sets the seed for all GPU devices|Sets the seed only for the current GPU|\n",
        " |Multi-GPU Behavior|Seed is applied to all available GPUs|Affects only the active GPU (no effect on other GPUs)|\n",
        " |Common Use Case|Reproducibility across both CPU and GPU operations|Reproducibility for operations on the current GPU device only|\n"
      ],
      "metadata": {
        "id": "VXEvHeXNcXm4"
      }
    },
    {
      "cell_type": "code",
      "source": [
        "import torch\n",
        "from torch import nn, optim\n",
        "import numpy as np\n",
        "import random"
      ],
      "metadata": {
        "id": "yjndNRNncorX"
      },
      "execution_count": null,
      "outputs": []
    },
    {
      "cell_type": "code",
      "source": [
        "class LinearRegression(nn.Module):\n",
        "    '''\n",
        "        Class to define the neural network using Linear layers. Importing nn.Module is necessary whenever building any NN\n",
        "    '''\n",
        "\n",
        "    def __init__(self, *args, **kwargs) -> None:\n",
        "        super().__init__(*args, **kwargs)\n",
        "        self.layer1 = nn.Linear(in_features=1, out_features=1, bias=True, dtype=torch.float32)\n",
        "        self.layer2 = nn.Linear(in_features=1, out_features=1, bias=True, dtype=torch.float32)\n",
        "\n",
        "    def forward(self, x: torch.Tensor) -> torch.Tensor:\n",
        "        self.forward1 = self.layer1(x)\n",
        "        return self.layer2(self.forward1)"
      ],
      "metadata": {
        "id": "7Q9oQLz5dN1y"
      },
      "execution_count": null,
      "outputs": []
    },
    {
      "cell_type": "code",
      "source": [
        "#torch.manual_seed(42) #remove comment to see results\n",
        "torch.cuda.manual_seed(42)\n",
        "device = \"cuda\" if torch.cuda.is_available() else \"cpu\"\n",
        "print('device = ', device )\n",
        "model_linear = LinearRegression()\n",
        "model_linear.to(device=device)\n",
        "print(model_linear.state_dict())"
      ],
      "metadata": {
        "colab": {
          "base_uri": "https://localhost:8080/"
        },
        "id": "yoXtKBqKcOTP",
        "outputId": "7943963c-decb-40cf-df83-d72ec36b9ec6"
      },
      "execution_count": null,
      "outputs": [
        {
          "output_type": "stream",
          "name": "stdout",
          "text": [
            "device =  cpu\n",
            "OrderedDict([('layer1.weight', tensor([[0.8815]])), ('layer1.bias', tensor([-0.7336])), ('layer2.weight', tensor([[0.8692]])), ('layer2.bias', tensor([0.1872]))])\n"
          ]
        }
      ]
    },
    {
      "cell_type": "markdown",
      "source": [
        "# **PyTorch Tip-7**"
      ],
      "metadata": {
        "id": "Pnko32p-opqu"
      }
    },
    {
      "cell_type": "markdown",
      "source": [
        "# **Gradient Accumulation for Large Batch Training:**  \n",
        "When training deep learning models on limited hardware (like a single GPU with limited memory), you may not be able to fit a large batch size into memory. Gradient accumulation is a trick that lets you simulate a larger batch size without increasing memory usage.\n",
        "It works using divide and conquer strategy. Instead of processing the entire batch at once, it's divided into smaller sub-batches.\n",
        "After processing all sub-batches, the accumulated gradients are used to update the model's weights.\n",
        "\n",
        "**How to Do It:**  \n",
        "You can accumulate gradients over several smaller batches and update the model only after accumulating enough gradients to match the desired larger batch size.\n",
        "\n",
        "**Example:**"
      ],
      "metadata": {
        "id": "GdoXzTymo6bA"
      }
    },
    {
      "cell_type": "code",
      "source": [
        "import torch\n",
        "import torch.nn as nn\n",
        "import torch.optim as optim"
      ],
      "metadata": {
        "id": "DiqAI2fGzfXq"
      },
      "execution_count": null,
      "outputs": []
    },
    {
      "cell_type": "code",
      "source": [
        "# Define your model, loss function, and optimizer\n",
        "model = YourModel()\n",
        "criterion = nn.CrossEntropyLoss()\n",
        "optimizer = optim.SGD(model.parameters(), lr=0.01)\n",
        "\n",
        "\n",
        "# Hyperparameters\n",
        "batch_size = 64  # Desired effective batch size\n",
        "sub_batch_size = 16\n",
        "num_batches = batch_size // sub_batch_size"
      ],
      "metadata": {
        "id": "IarDqwkIzmGy"
      },
      "execution_count": null,
      "outputs": []
    },
    {
      "cell_type": "code",
      "source": [
        "# Assume we want to use an effective batch size of 64, but can only use 16 due to memory constraints\n",
        "accumulation_steps = 4  # Accumulate gradients over 4 small batches\n",
        "\n",
        "for epoch in range(num_epochs):\n",
        "    for i, (inputs, labels) in enumerate(data_loader):\n",
        "        outputs = model(inputs)\n",
        "        loss = loss_fn(outputs, labels)\n",
        "        loss = loss / accumulation_steps  # Scale loss\n",
        "\n",
        "        loss.backward()  # Accumulate gradients\n",
        "\n",
        "        if (i + 1) % accumulation_steps == 0:\n",
        "            optimizer.step()  # Update weights\n",
        "            optimizer.zero_grad()  # Reset gradients\n",
        "\n",
        "# This simulates a larger batch size of 64 by using 4 batches of 16 and accumulating gradients.\n"
      ],
      "metadata": {
        "id": "Taw7WVc_uT3P"
      },
      "execution_count": null,
      "outputs": []
    },
    {
      "cell_type": "markdown",
      "source": [
        "**Why This Helps:**  \n",
        "**Memory-efficient:**  \n",
        "You can work with smaller batches while achieving the same effect as\n",
        "training with a larger batch.\n",
        "\n",
        "**Stable training:**  \n",
        " Larger batch sizes can help stabilize gradient updates and potentially lead to better model convergence.\n",
        "\n",
        "This is particularly useful when dealing with large models or datasets where memory is a constraint."
      ],
      "metadata": {
        "id": "EFHWCPuyw-Mj"
      }
    },
    {
      "cell_type": "code",
      "source": [],
      "metadata": {
        "id": "Gg8-LsK7pBcA"
      },
      "execution_count": null,
      "outputs": []
    },
    {
      "cell_type": "markdown",
      "source": [
        "# **pytorch tip-6**"
      ],
      "metadata": {
        "id": "6gjTHo3wsr0t"
      }
    },
    {
      "cell_type": "markdown",
      "source": [
        "When training a model, efficient data loading is crucial. PyTorch provides the DataLoader class, which can handle batching, shuffling, and parallel data loading with ease.\n",
        "\n",
        "**Benefits of DataLoader:**   \n",
        "Batching: Automatically splits your dataset into batches.\n",
        "Shuffling: Randomizes the order of data, which helps in breaking any potential patterns in the data.\n",
        "Parallel Loading: Loads data in parallel using multiple worker processes, speeding up the data pipeline.  \n",
        "**Example:**  \n",
        "**Step 1: Create a Dataset**  \n",
        "First, you need to create a custom dataset by subclassing torch.utils.data.Dataset.  \n",
        "\n"
      ],
      "metadata": {
        "id": "zYXWPyTnvXB0"
      }
    },
    {
      "cell_type": "code",
      "source": [
        "import torch\n",
        "from torch.utils.data import Dataset, DataLoader\n",
        "\n",
        "class CustomDataset(Dataset):\n",
        "    def __init__(self, data, labels):\n",
        "        self.data = data\n",
        "        self.labels = labels\n",
        "\n",
        "    def __len__(self):\n",
        "        return len(self.data)\n",
        "\n",
        "    def __getitem__(self, idx):\n",
        "        x = self.data[idx]\n",
        "        y = self.labels[idx]\n",
        "        return x, y\n",
        "\n",
        "# Example data\n",
        "data = torch.randn(1000, 10)\n",
        "labels = torch.randint(0, 2, (1000,))"
      ],
      "metadata": {
        "id": "nU8ZZ6Kz4_dI"
      },
      "execution_count": null,
      "outputs": []
    },
    {
      "cell_type": "markdown",
      "source": [
        "**Step 2: Create a DataLoader**  \n",
        "Then, you can create a DataLoader to handle batching and shuffling."
      ],
      "metadata": {
        "id": "g7E02s2B5oKw"
      }
    },
    {
      "cell_type": "code",
      "source": [
        "# Create dataset instance\n",
        "dataset = CustomDataset(data, labels)\n",
        "\n",
        "# Create DataLoader\n",
        "dataloader = DataLoader(dataset, batch_size=32, shuffle=True, num_workers=4)\n",
        "\n",
        "# Iterate through DataLoader\n",
        "for batch_data, batch_labels in dataloader:\n",
        "    # Your training code here\n",
        "    print(batch_data, batch_labels)\n",
        "    break"
      ],
      "metadata": {
        "id": "LuBxjHgf4Swr",
        "colab": {
          "base_uri": "https://localhost:8080/"
        },
        "outputId": "6a40f43f-0f91-4e1f-f4c1-bf919f284c92"
      },
      "execution_count": null,
      "outputs": [
        {
          "output_type": "stream",
          "name": "stderr",
          "text": [
            "/usr/local/lib/python3.10/dist-packages/torch/utils/data/dataloader.py:558: UserWarning: This DataLoader will create 4 worker processes in total. Our suggested max number of worker in current system is 2, which is smaller than what this DataLoader is going to create. Please be aware that excessive worker creation might get DataLoader running slow or even freeze, lower the worker number to avoid potential slowness/freeze if necessary.\n",
            "  warnings.warn(_create_warning_msg(\n"
          ]
        },
        {
          "output_type": "stream",
          "name": "stdout",
          "text": [
            "tensor([[-5.0268e-02,  2.4722e+00,  8.5836e-01, -7.1339e-01, -5.5074e-01,\n",
            "          1.2122e+00, -4.0883e-01, -1.8010e+00, -4.8705e-01, -1.4218e-01],\n",
            "        [ 6.0705e-02, -1.1061e+00, -4.1906e-01,  1.4947e-01, -7.9631e-01,\n",
            "         -5.4613e-01,  7.5147e-01, -2.6709e-02,  6.7446e-01, -1.3347e+00],\n",
            "        [-1.8181e+00,  1.0670e+00, -2.6840e-01, -1.7488e-01, -2.8205e-02,\n",
            "          6.4314e-02,  1.1637e+00,  2.9105e-01, -6.5504e-01,  1.8453e+00],\n",
            "        [-1.0356e+00, -1.5176e+00, -5.7280e-01, -5.0991e-01, -2.1609e+00,\n",
            "         -4.2958e-01, -3.7735e-01, -7.3656e-01,  8.8699e-02,  1.4433e+00],\n",
            "        [ 4.1850e-01,  2.5052e+00,  1.5065e-01,  1.1184e+00, -2.3551e-01,\n",
            "          1.5556e+00,  6.9068e-01,  7.1115e-01,  1.2963e+00, -1.7523e+00],\n",
            "        [ 9.2839e-01, -1.9293e-03,  9.6393e-01,  3.3717e-02,  1.8298e-01,\n",
            "         -1.6492e+00,  1.4252e+00,  3.4436e-01, -3.8601e-01, -1.5281e-01],\n",
            "        [-5.1026e-01,  2.3432e-01,  2.4819e-01,  9.3880e-01,  4.5567e-02,\n",
            "         -1.5704e-02,  1.0721e+00,  6.2851e-01, -2.5128e+00,  2.7814e-01],\n",
            "        [-8.3192e-01,  1.2801e+00,  2.8443e+00,  1.3897e+00,  8.1833e-02,\n",
            "          1.2019e+00, -1.8938e+00,  7.0227e-01, -2.7061e-01,  2.1769e+00],\n",
            "        [-9.3750e-01,  1.7600e-01, -3.6243e-01,  3.1133e-01,  4.9057e-01,\n",
            "         -5.2551e-01, -2.3000e+00,  1.1372e+00,  7.9366e-01,  4.9287e-02],\n",
            "        [ 2.7270e-01, -8.8241e-01, -1.7217e+00, -6.3501e-01, -8.0634e-01,\n",
            "          2.2880e-01,  1.0995e+00,  1.2136e-02, -6.9235e-01, -7.0004e-01],\n",
            "        [-2.0008e-02,  8.8863e-01,  2.8310e-01, -1.3610e+00,  5.9591e-01,\n",
            "         -1.3443e+00, -2.3777e+00,  9.4739e-01, -4.3805e-01, -7.6329e-03],\n",
            "        [-2.8501e-01, -3.2788e-01,  4.0030e-01,  6.6493e-01, -9.4770e-01,\n",
            "         -1.0993e+00,  1.0253e+00,  9.5529e-02, -2.0449e-01, -8.1955e-01],\n",
            "        [ 1.0079e+00,  4.6941e-01, -1.8924e-01, -7.8301e-01,  3.5421e-01,\n",
            "         -3.6701e-02,  2.3303e-01,  6.9472e-01,  3.3694e-01,  6.9492e-01],\n",
            "        [-1.2097e+00, -3.4455e-01,  6.6808e-01, -2.6322e-02, -4.8162e-01,\n",
            "          8.7262e-01, -2.1422e-01,  1.1199e+00,  9.4173e-02, -5.0222e-02],\n",
            "        [-2.9487e-01,  1.1669e+00, -8.1979e-02,  2.6339e-03,  5.6847e-01,\n",
            "          4.1518e-01, -7.8718e-01,  5.1166e-01, -7.6081e-01, -1.3750e+00],\n",
            "        [-2.3632e+00,  7.4659e-01, -9.6685e-01, -1.4781e+00,  4.5672e-01,\n",
            "          3.8696e-02,  1.3564e-01,  1.0476e+00, -5.2284e-01, -6.9745e-01],\n",
            "        [-6.5582e-01,  1.6735e-01, -5.3495e-01,  7.9865e-01,  8.7943e-01,\n",
            "          7.1433e-02,  6.4166e-01, -1.3768e+00,  5.6705e-01, -4.5875e-01],\n",
            "        [-2.0603e-02, -5.1605e-02,  2.7061e-01, -6.4359e-02,  1.5797e-01,\n",
            "         -2.2518e-01, -2.2906e-01,  1.4165e+00,  3.4896e-01,  1.5751e-01],\n",
            "        [-4.0743e-01,  7.4206e-01,  1.9072e-01,  1.1596e+00, -5.5421e-02,\n",
            "          1.3261e+00, -1.8486e+00, -1.1181e-01, -1.1041e+00,  1.2530e+00],\n",
            "        [-9.3036e-01,  7.7418e-01,  1.6287e+00, -5.6250e-02,  4.4056e-01,\n",
            "         -8.6373e-01, -8.8485e-01, -6.1136e-01,  2.8592e+00, -2.3618e+00],\n",
            "        [-6.4981e-01,  3.9744e-01, -6.0593e-01, -6.6612e-01,  7.7950e-01,\n",
            "         -6.4474e-01, -7.5134e-02,  1.7686e+00, -9.3381e-02, -5.6285e-01],\n",
            "        [-3.1252e-01, -9.4606e-01, -1.4260e+00, -7.2890e-02, -1.3855e+00,\n",
            "         -2.3672e-01, -1.4252e+00,  8.8973e-01,  4.6656e-01,  9.4967e-01],\n",
            "        [-4.6180e-01, -1.2366e+00,  1.0378e+00, -1.2330e+00, -5.3201e-02,\n",
            "          7.9449e-01,  1.5314e+00, -4.5886e-01, -1.5085e+00, -5.5659e-01],\n",
            "        [ 5.8784e-02, -1.6735e-01,  1.7930e+00, -7.9487e-02, -9.9506e-01,\n",
            "          5.6501e-02, -1.2067e+00, -6.0952e-01, -2.1457e-01, -7.6608e-01],\n",
            "        [ 9.5029e-01,  6.6782e-01,  2.0402e+00, -3.4812e-01, -8.3959e-01,\n",
            "          9.2200e-01,  1.0076e+00,  5.4730e-01,  1.3808e+00,  4.5111e-01],\n",
            "        [-8.1598e-01,  7.5742e-01,  9.1775e-02, -5.4905e-01, -1.9816e+00,\n",
            "         -9.1767e-01,  1.8877e+00, -9.4280e-01,  1.5180e-02,  1.1022e+00],\n",
            "        [ 1.0291e+00,  4.1395e-01, -6.0969e-01,  4.3018e-01, -1.7713e+00,\n",
            "          1.2904e+00, -1.5447e-01, -4.1076e-02, -2.1941e-01, -5.6324e-01],\n",
            "        [-9.8542e-01, -9.8395e-01,  1.0297e+00,  1.3780e+00, -2.6794e-01,\n",
            "         -1.8874e+00, -9.6955e-01, -1.2391e+00, -6.5798e-01, -3.0384e-01],\n",
            "        [ 6.5990e-02, -1.2841e+00,  8.6756e-01, -7.0245e-01, -1.1994e+00,\n",
            "          1.0242e+00, -2.9743e-01,  7.7265e-01,  3.4744e-01,  1.8052e+00],\n",
            "        [ 7.0828e-01,  7.4825e-01, -9.0936e-01, -7.5866e-01,  1.0666e+00,\n",
            "          2.9101e-01, -1.8355e+00,  1.7600e+00, -5.9259e-02, -1.1542e+00],\n",
            "        [-4.9496e-01,  6.4304e-01,  6.6867e-01, -1.2877e+00, -1.9846e+00,\n",
            "         -1.3132e-01, -5.6324e-01, -1.9416e-01,  1.3855e+00, -4.9613e-01],\n",
            "        [-9.8080e-02, -4.6986e-01, -8.8601e-01,  2.3101e+00,  1.0956e+00,\n",
            "         -1.2603e+00, -1.6882e-01,  3.0972e-01,  3.4399e-01,  4.0684e-01]]) tensor([0, 0, 1, 1, 0, 0, 0, 1, 1, 1, 1, 0, 0, 0, 1, 0, 1, 0, 0, 0, 1, 0, 0, 1,\n",
            "        0, 1, 1, 1, 1, 1, 0, 0])\n"
          ]
        }
      ]
    },
    {
      "cell_type": "markdown",
      "source": [
        "# **pytorch tip-5**"
      ],
      "metadata": {
        "id": "-ZUqHCSN3Jle"
      }
    },
    {
      "cell_type": "markdown",
      "source": [
        "A PyTorch tip that combines efficiency and debugging best practices:\n",
        "\n",
        "**Overfit a Single Batch for Sanity Checks**\n",
        "\n",
        "Before investing significant time training on a large dataset, use a small batch to verify your model's functionality. This can catch errors early and save you time:\n",
        "\n",
        "**Create a Data Loader:** Set up your data loader as usual for training.  \n",
        "**Grab a Single Batch:** Extract the first batch of data (images, labels) from the data loader using next(iter(data_loader)).  \n",
        "**Overfit the Batch:** Train your model on this single batch for a few epochs. You expect the model to overfit (achieve very high accuracy) on this small sample."
      ],
      "metadata": {
        "id": "9rsi_4Zo3cm5"
      }
    },
    {
      "cell_type": "code",
      "source": [
        "import torch\n",
        "\n",
        "# Assuming you have your model (`model`) and data loader (`data_loader`) defined\n",
        "\n",
        "# Get the first batch of data\n",
        "images, labels = next(iter(data_loader))\n",
        "\n",
        "# Train on the single batch for a few epochs (e.g., 5 epochs)\n",
        "    # ... your training loop logic using `images` and `labels` ...\n",
        "for epoch in range(5):\n",
        "    for batch_images, batch_labels in data_loader:\n",
        "        # Forward pass\n",
        "        outputs = model(batch_images)\n",
        "        loss = loss_function(outputs, batch_labels)\n",
        "\n",
        "        # Backward pass and optimization\n",
        "        optimizer.zero_grad()\n",
        "        loss.backward()\n",
        "        optimizer.step()\n",
        "# Evaluate the model's performance on the single batch (optional)\n",
        "# You can calculate metrics such as accuracy, precision, recall, etc.\n",
        "\n",
        "#if your model cannot even overfit a single batch, it suggests an issue with the\n",
        "#model architecture, learning process, or data preprocessing.\n",
        "\n",
        "# If successful, proceed with training on the full dataset\n"
      ],
      "metadata": {
        "id": "bqL0n4OxxYay"
      },
      "execution_count": null,
      "outputs": []
    },
    {
      "cell_type": "markdown",
      "source": [
        "**Benefits:**\n",
        "\n",
        "**Early Debugging:** Catch potential errors before extensive training.  \n",
        "**Faster Iteration:** Quickly test model changes without waiting for full dataset training.  \n",
        "**Efficiency:** Reduce training time on large datasets if there are fundamental issues.  \n",
        "\n",
        "**Remember:** Overfitting a single batch is a sanity check, not a complete evaluation. If successful, proceed with training on the entire dataset."
      ],
      "metadata": {
        "id": "_VOsZd7Cxg4m"
      }
    },
    {
      "cell_type": "code",
      "execution_count": null,
      "metadata": {
        "id": "1dEjIW3Moc9_"
      },
      "outputs": [],
      "source": [
        "# prompt: pytorch tips\n",
        "\n",
        "# Use `torch.cuda.is_available()` to check if CUDA is available before using it.\n",
        "# This can help avoid errors and improve performance.\n",
        "\n",
        "# Use `torch.no_grad()` context manager to disable gradient computation when it is not needed.\n",
        "# This can save memory and improve performance.\n",
        "\n",
        "# Use `torch.jit.trace()` to create a traced version of your model for improved performance.\n",
        "# This can be especially useful for models that are used frequently.\n",
        "\n",
        "# Use `torch.utils.data.DataLoader` to load your data in batches.\n",
        "# This can help improve performance by reducing the number of times the data is loaded into memory.\n",
        "\n",
        "# Use `torch.optim.lr_scheduler` to adjust the learning rate during training.\n",
        "# This can help improve the convergence of the model.\n",
        "\n",
        "# Use `torch.nn.utils.clip_grad_norm_` to clip the gradients during training.\n",
        "# This can help prevent the gradients from becoming too large and causing the model to diverge.\n",
        "\n",
        "# Use `torch.utils.tensorboard` to visualize the training process.\n",
        "# This can help you track the progress of the model and identify any potential problems.\n"
      ]
    },
    {
      "cell_type": "markdown",
      "source": [
        "# **PyTorch Tip - 4**"
      ],
      "metadata": {
        "id": "tDaNebn9-SSt"
      }
    },
    {
      "cell_type": "markdown",
      "source": [
        "**Explore Static Graphs with torch.compile (PyTorch 2.0 or later):**\n",
        "\n",
        "If you're using PyTorch version 2.0 or above and aiming to deploy your model for inference, consider leveraging **torch.compile**. This feature offers significant speedups by converting your model's dynamic computational graph into a static one. **torch.compile** makes PyTorch code run faster by JIT-compiling PyTorch code into optimized kernel.\n",
        "\n",
        "**Understanding Dynamic vs. Static Graphs:**\n",
        "\n",
        "**Dynamic Graphs (Default):**In PyTorch's eager execution mode, the computational graph is built on-the-fly during each forward pass. While flexible, this approach can introduce overhead due to graph creation in every run.\n",
        "**Static Graphs**: torch.compile optimizes the model by pre-compiling the computational graph into a more efficient, fixed structure. This static graph can then be repeatedly executed for inference tasks, leading to faster predictions.\n"
      ],
      "metadata": {
        "id": "vgxKvdIm-uxr"
      }
    },
    {
      "cell_type": "markdown",
      "source": [
        "**Trade-offs:** While torch.compile generally accelerates inference, it might incur a slight overhead during the compilation process itself. However, this is usually a one-time cost that outweighs the benefits in most deployment scenarios.  \n",
        "**Limited Flexibility:** Once compiled, the static graph cannot be easily modified. If your model needs dynamic adjustments at runtime, torch.compile might not be the most suitable option."
      ],
      "metadata": {
        "id": "RsY3dnN7AMQs"
      }
    },
    {
      "cell_type": "markdown",
      "source": [
        "**How to Use torch.compile:**"
      ],
      "metadata": {
        "id": "XcfyFT5KAcNC"
      }
    },
    {
      "cell_type": "code",
      "source": [
        "import torch\n",
        "\n",
        "# Load your trained model\n",
        "\n",
        "compiled_model = torch.compile(model)\n",
        "\n",
        "# Use the compiled model for inference on new data\n",
        "predictions = compiled_model(data)\n"
      ],
      "metadata": {
        "id": "Bs_bUVuZAhv0"
      },
      "execution_count": null,
      "outputs": []
    },
    {
      "cell_type": "markdown",
      "source": [
        "Python functions can be optimized by passing the callable to torch.compile. We can then call the returned optimized function in place of the original function."
      ],
      "metadata": {
        "id": "cRMvv6HcCZ20"
      }
    },
    {
      "cell_type": "code",
      "source": [
        "def foo(x, y):\n",
        "    a = torch.sin(x)\n",
        "    b = torch.cos(y)\n",
        "    return a + b\n",
        "opt_foo1 = torch.compile(foo)\n",
        "print(opt_foo1(torch.randn(10, 10), torch.randn(10, 10)))"
      ],
      "metadata": {
        "id": "DqyqIfbyCb-c"
      },
      "execution_count": null,
      "outputs": []
    },
    {
      "cell_type": "markdown",
      "source": [
        "Alternatively, we can decorate the function."
      ],
      "metadata": {
        "id": "ayD8qbdbCo21"
      }
    },
    {
      "cell_type": "code",
      "source": [
        "@torch.compile\n",
        "def opt_foo2(x, y):\n",
        "    a = torch.sin(x)\n",
        "    b = torch.cos(y)\n",
        "    return a + b\n",
        "print(opt_foo2(torch.randn(10, 10), torch.randn(10, 10)))"
      ],
      "metadata": {
        "id": "gQcFqfwPCp0k"
      },
      "execution_count": null,
      "outputs": []
    },
    {
      "cell_type": "markdown",
      "source": [
        "**Benefits of torch.compile:**\n",
        "\n",
        "**Reduced Inference Latency:** By eliminating the need to construct the graph dynamically each time, you can achieve noticeably faster inference speeds. This is crucial for real-time applications where low latency is essential.  \n",
        "**Potential for Further Optimizations:** torch.compile often paves the way for additional optimizations under the hood, such as kernel fusion* and improved memory access patterns.  \n",
        "**kernel fusion** is a valuable technique for optimizing code running on GPUs. By reducing data transfer overhead and improving cache utilization, it can significantly accelerate computations.  \n",
        "\n",
        "By adopting torch.compile for deployment, you can significantly enhance your model's inference performance, making it more efficient and responsive in real-world applications.\n",
        "\n",
        "Further Reading: https://pytorch.org/tutorials/intermediate/torch_compile_tutorial.html"
      ],
      "metadata": {
        "id": "yyFCdjiCAor0"
      }
    },
    {
      "cell_type": "markdown",
      "source": [
        "# **PyTorch Tip - 3**\n"
      ],
      "metadata": {
        "id": "uh9hzytOo3BH"
      }
    },
    {
      "cell_type": "markdown",
      "source": [
        "**Using torch.where() for Conditional Element-wise Operations**\n",
        "PyTorch's **torch.where()** function allows you to perform conditional element-wise operations efficiently. It takes three arguments: the condition, the tensor to select values from when the condition is true, and the tensor to select values from when the condition is false. This is particularly useful for implementing conditional logic within your neural network models.\n",
        "\n",
        "Here's a quick example:\n",
        "In this example, the elements from tensor_true are selected where the condition is True, and elements from tensor_false are selected where the condition is False. This allows for flexible conditional operations within your PyTorch code."
      ],
      "metadata": {
        "id": "Jcg0XpAApdau"
      }
    },
    {
      "cell_type": "code",
      "source": [
        "import torch\n",
        "\n",
        "# Define tensors\n",
        "condition = torch.tensor([[True, False], [False, True]])\n",
        "tensor_true = torch.tensor([[1, 2], [3, 4]])\n",
        "tensor_false = torch.tensor([[5, 6], [7, 8]])\n",
        "\n",
        "# Perform conditional element-wise operation\n",
        "result = torch.where(condition, tensor_true, tensor_false)\n",
        "print(result)\n"
      ],
      "metadata": {
        "colab": {
          "base_uri": "https://localhost:8080/"
        },
        "id": "m7mRti28pMqD",
        "outputId": "97194fd7-0b82-49ac-802c-65f798555847"
      },
      "execution_count": null,
      "outputs": [
        {
          "output_type": "stream",
          "name": "stdout",
          "text": [
            "tensor([[1, 6],\n",
            "        [7, 4]])\n"
          ]
        }
      ]
    },
    {
      "cell_type": "markdown",
      "source": [
        "**Some Practical usages below:**"
      ],
      "metadata": {
        "id": "qzSlhc4ivTZU"
      }
    },
    {
      "cell_type": "markdown",
      "source": [
        "**1. Masked Operations:** You might have a tensor and want to perform different operations on elements based on some condition. For instance, in natural language processing, you might want to mask out certain tokens during tokenization or in attention mechanisms based on some condition."
      ],
      "metadata": {
        "id": "UvnyYYzhttJt"
      }
    },
    {
      "cell_type": "code",
      "source": [
        "import torch\n",
        "\n",
        "# Example: Masking tokens with a special token ID\n",
        "input_ids = torch.tensor([101, 102, 103, 104, 105])  # Example input tensor\n",
        "mask_condition = input_ids == 103  # Condition to mask out token with ID 103\n",
        "special_token_id = 1000  # Special token ID to replace masked tokens\n",
        "\n",
        "# Mask out tokens with ID 103\n",
        "masked_input_ids = torch.where(mask_condition, torch.tensor(special_token_id), input_ids)\n",
        "\n",
        "print(masked_input_ids)\n"
      ],
      "metadata": {
        "colab": {
          "base_uri": "https://localhost:8080/"
        },
        "id": "wMQbnWpgueW5",
        "outputId": "7e6c055e-76a9-486e-ff96-83e9c1093f0d"
      },
      "execution_count": null,
      "outputs": [
        {
          "output_type": "stream",
          "name": "stdout",
          "text": [
            "tensor([ 101,  102, 1000,  104,  105])\n"
          ]
        }
      ]
    },
    {
      "cell_type": "markdown",
      "source": [
        "**2. Loss Function Modification:** During training, you may want to apply different weights to different elements of the loss function based on some condition."
      ],
      "metadata": {
        "id": "LftkpiTduzQH"
      }
    },
    {
      "cell_type": "code",
      "source": [
        "import torch.nn.functional as F\n",
        "\n",
        "# Example: Modifying loss function based on class imbalance\n",
        "predicted_scores = torch.tensor([0.1, 0.8, 0.3, 0.9, 0.2])  # Example predicted scores\n",
        "true_labels = torch.tensor([0, 1, 0, 1, 1])  # Example true labels\n",
        "\n",
        "# Calculate binary cross-entropy loss with class imbalance handling\n",
        "positive_weight = 2.0  # Weight for positive class\n",
        "negative_weight = 1.0  # Weight for negative class\n",
        "loss_weights = torch.where(true_labels == 1, positive_weight, negative_weight)\n",
        "\n",
        "# Calculate weighted binary cross-entropy loss\n",
        "loss = F.binary_cross_entropy_with_logits(predicted_scores, true_labels.float(), weight=loss_weights)\n",
        "\n",
        "print(loss)\n"
      ],
      "metadata": {
        "colab": {
          "base_uri": "https://localhost:8080/"
        },
        "id": "SJLbatNqu_dE",
        "outputId": "8ec03f28-e114-4380-d1c8-99bba95ce2a8"
      },
      "execution_count": null,
      "outputs": [
        {
          "output_type": "stream",
          "name": "stdout",
          "text": [
            "tensor(0.8439)\n"
          ]
        }
      ]
    },
    {
      "cell_type": "markdown",
      "source": [
        "**Model Interpretability:** In some scenarios, you might want to interpret the output of your model differently based on certain conditions."
      ],
      "metadata": {
        "id": "9Kravs2713ql"
      }
    },
    {
      "cell_type": "code",
      "source": [
        "import torch\n",
        "\n",
        "# Example: Interpreting model output differently based on confidence\n",
        "output_scores = torch.tensor([0.8, 0.6, 0.9, 0.4, 0.7])  # Example output scores\n",
        "confidence_threshold = 0.7  # Threshold for high confidence\n",
        "\n",
        "# Determine model predictions based on confidence\n",
        "predictions = torch.where(output_scores >= confidence_threshold, torch.tensor(1), torch.tensor(0))\n",
        "\n",
        "print(predictions)"
      ],
      "metadata": {
        "colab": {
          "base_uri": "https://localhost:8080/"
        },
        "id": "awdjw-uq16Ft",
        "outputId": "11c76eff-e294-48ba-b359-5de12a4422b0"
      },
      "execution_count": null,
      "outputs": [
        {
          "output_type": "stream",
          "name": "stdout",
          "text": [
            "tensor([1, 0, 1, 0, 1])\n"
          ]
        }
      ]
    }
  ]
}